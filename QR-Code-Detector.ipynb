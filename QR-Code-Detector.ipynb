{
 "cells": [
  {
   "cell_type": "markdown",
   "metadata": {
    "deletable": false,
    "editable": false,
    "nbgrader": {
     "grade": false,
     "locked": true,
     "solution": false
    }
   },
   "source": [
    "# <font style = \"color:rgb(50,120,229)\"> QR Code Detector </font>\n",
    "\n",
    "## <font style = \"color:rgb(50,120,229)\"> Overview </font>\n",
    "\n",
    "In the world where every other person carries an android phone or iPhone, QR Codes have gained a lot of popularity. The amount of information that these small and strange looking codes can carry is huge. Whether it's a URL, or a coupon code, or a person's PayTM account details, or a package's information, these codes can store it all. \n",
    "\n",
    "QR Code (Quick Response Code) were first designed in **1994** for automotive industry in Japan and since then they have left their mark in about every sector.\n",
    "\n",
    "## <font style = \"color:rgb(50,120,229)\"> Aim </font>\n",
    "\n",
    "In this project, we will implement a **QR Code Detector and Decoder** using **OpenCV** from scratch. We will then run our QR Code Detector on a sample image attached below.\n",
    "\n",
    "![OpenCV ID Card](./IDCard-Satya.png)\n",
    "\n",
    "## <font style = \"color:rgb(50,120,229)\">Additional Exercise </font>\n",
    "\n",
    "1. Create your own **OpenCV ID Card** (unofficial). You can use the following template as reference.\n",
    "\n",
    "![OpenCV ID Card Template](./IDCard-Template.png)\n",
    "\n",
    "The QR Code should contain the following details:\n",
    "\n",
    "```\n",
    "Name: Your name will come here, ID: a random numeric string\n",
    "```\n",
    "\n",
    "Use the QR Code Detector to detect the QR Code on your ID card. Also try out different image processing techniques you have learnt so far in the course, for example, image blurring to blur the ID Card photo and see how it affects the performance of your QR Code Detector. Share your findings with other students on Discussion Forum.\n",
    "\n",
    "2. Collect 5 photos of QR Codes that you have come across in your day-to-day life. Use our QR Code Detector to detect and decode the QR Code in the images. Don't forget to discuss your results and findings with other students in the discussion forum!\n",
    "\n",
    "## <font style = \"color:rgb(50,120,229)\"> Outline </font>\n",
    "\n",
    "Now that we have discussed about the aim of this project, let's see what are the main steps to be followed in this project.\n",
    "\n",
    "1. Read image\n",
    "2. Detect QR Code in the image\n",
    "3. Draw bounding box around the detected QR Code\n",
    "4. Print the decoded text\n",
    "5. Save and display the result image\n",
    "\n",
    "## <font style = \"color:rgb(50,120,229)\"> OpenCV Functions to Use </font>\n",
    "\n",
    "First let's see what major OpenCV Functions you are going to use (or can use) in this project.\n",
    "\n",
    "1. **Reading and writing image**: `cv::imread()`, `cv::imwrite()`\n",
    "2. **Write text on image**: `cv::putText()`\n",
    "3. **Draw a line on image**: `cv::line()`\n",
    "4. **QR Detection**: `cv::QRCodeDetector()`, `detectAndDecode()`\n",
    "\n",
    "![Expected Result](./QRCode-Expected-Output.png)"
   ]
  },
  {
   "cell_type": "markdown",
   "metadata": {
    "deletable": false,
    "editable": false,
    "nbgrader": {
     "grade": false,
     "locked": true,
     "solution": false
    }
   },
   "source": [
    "# <font style = \"color:rgb(50,120,229)\">Step 0: Include Libraries</font>"
   ]
  },
  {
   "cell_type": "code",
   "execution_count": 1,
   "metadata": {
    "collapsed": true,
    "deletable": false,
    "editable": false,
    "nbgrader": {
     "grade": false,
     "locked": true,
     "solution": false
    }
   },
   "outputs": [],
   "source": [
    "#include \"../resource/lib/public/includeLibraries.h\""
   ]
  },
  {
   "cell_type": "code",
   "execution_count": 2,
   "metadata": {
    "collapsed": true,
    "deletable": false,
    "editable": false,
    "nbgrader": {
     "grade": false,
     "locked": true,
     "solution": false
    }
   },
   "outputs": [],
   "source": [
    "#include <opencv2/opencv.hpp>"
   ]
  },
  {
   "cell_type": "code",
   "execution_count": 3,
   "metadata": {
    "collapsed": true,
    "deletable": false,
    "editable": false,
    "nbgrader": {
     "grade": false,
     "locked": true,
     "solution": false
    }
   },
   "outputs": [],
   "source": [
    "#include <opencv2/objdetect.hpp>"
   ]
  },
  {
   "cell_type": "code",
   "execution_count": 4,
   "metadata": {
    "collapsed": true,
    "deletable": false,
    "editable": false,
    "nbgrader": {
     "grade": false,
     "locked": true,
     "solution": false
    }
   },
   "outputs": [],
   "source": [
    "#include <opencv2/imgcodecs.hpp>"
   ]
  },
  {
   "cell_type": "code",
   "execution_count": 5,
   "metadata": {
    "collapsed": true,
    "deletable": false,
    "editable": false,
    "nbgrader": {
     "grade": false,
     "locked": true,
     "solution": false
    }
   },
   "outputs": [],
   "source": [
    "#include <opencv2/highgui/highgui.hpp>"
   ]
  },
  {
   "cell_type": "code",
   "execution_count": 6,
   "metadata": {
    "collapsed": true,
    "deletable": false,
    "editable": false,
    "nbgrader": {
     "grade": false,
     "locked": true,
     "solution": false
    }
   },
   "outputs": [],
   "source": [
    "#include <opencv2/imgproc/imgproc.hpp>"
   ]
  },
  {
   "cell_type": "code",
   "execution_count": 7,
   "metadata": {
    "collapsed": true,
    "deletable": false,
    "editable": false,
    "nbgrader": {
     "grade": false,
     "locked": true,
     "solution": false
    }
   },
   "outputs": [],
   "source": [
    "#include <iostream>"
   ]
  },
  {
   "cell_type": "code",
   "execution_count": 8,
   "metadata": {
    "collapsed": true,
    "deletable": false,
    "editable": false,
    "nbgrader": {
     "grade": false,
     "locked": true,
     "solution": false
    }
   },
   "outputs": [],
   "source": [
    "#include <string>"
   ]
  },
  {
   "cell_type": "code",
   "execution_count": 9,
   "metadata": {
    "collapsed": true,
    "deletable": false,
    "editable": false,
    "nbgrader": {
     "grade": false,
     "locked": true,
     "solution": false
    }
   },
   "outputs": [],
   "source": [
    "using namespace std;"
   ]
  },
  {
   "cell_type": "code",
   "execution_count": 10,
   "metadata": {
    "collapsed": true,
    "deletable": false,
    "editable": false,
    "nbgrader": {
     "grade": false,
     "locked": true,
     "solution": false
    }
   },
   "outputs": [],
   "source": [
    "using namespace cv;"
   ]
  },
  {
   "cell_type": "markdown",
   "metadata": {
    "deletable": false,
    "editable": false,
    "nbgrader": {
     "grade": false,
     "locked": true,
     "solution": false
    }
   },
   "source": [
    "# <font style = \"color:rgb(50,120,229)\">Step 1: Read Image</font>"
   ]
  },
  {
   "cell_type": "code",
   "execution_count": 11,
   "metadata": {
    "collapsed": true
   },
   "outputs": [],
   "source": [
    "// Image Path\n",
    "string imgPath = DATA_PATH + \"/images/IDCard-Satya.png\";\n",
    "\n",
    "// Read image and store it in variable img\n",
    "///\n",
    "/// YOUR CODE HERE\n",
    "///\n",
    "Mat img = imread(imgPath);"
   ]
  },
  {
   "cell_type": "code",
   "execution_count": 12,
   "metadata": {},
   "outputs": [
    {
     "name": "stdout",
     "output_type": "stream",
     "text": [
      "204 324"
     ]
    }
   ],
   "source": [
    "cout << img.size().height << \" \" << img.size().width;"
   ]
  },
  {
   "cell_type": "code",
   "execution_count": 13,
   "metadata": {
    "collapsed": true,
    "deletable": false,
    "editable": false,
    "nbgrader": {
     "grade": true,
     "grade_id": "read image",
     "locked": true,
     "points": "5",
     "solution": false
    }
   },
   "outputs": [],
   "source": [
    "///\n",
    "/// AUTOGRADER TEST - DO NOT REMOVE\n",
    "///\n"
   ]
  },
  {
   "cell_type": "markdown",
   "metadata": {
    "deletable": false,
    "editable": false,
    "nbgrader": {
     "grade": false,
     "locked": true,
     "solution": false
    }
   },
   "source": [
    "# <font style = \"color:rgb(50,120,229)\"> Step 2: Detect QR Code in the Image</font>"
   ]
  },
  {
   "cell_type": "code",
   "execution_count": 14,
   "metadata": {},
   "outputs": [
    {
     "name": "stdout",
     "output_type": "stream",
     "text": [
      "QR Code Detected\n"
     ]
    }
   ],
   "source": [
    "Mat bbox, rectifiedImage;\n",
    "\n",
    "// Create a QRCodeDetector Object\n",
    "// Variable name should be qrDecoder\n",
    "///\n",
    "/// YOUR CODE HERE\n",
    "///\n",
    "QRCodeDetector qrDecoder = QRCodeDetector();\n",
    "\n",
    "// Detect QR Code in the Image\n",
    "// Output should be stored in opencvData\n",
    "///\n",
    "/// YOUR CODE HERE\n",
    "///\n",
    "string opencvData = qrDecoder.detectAndDecode(img, bbox, rectifiedImage);\n",
    "\n",
    "// Check if a QR Code has been detected\n",
    "if(opencvData.length()>0)\n",
    "    cout << \"QR Code Detected\" << endl;\n",
    "else\n",
    "    cout << \"QR Code NOT Detected\" << endl;"
   ]
  },
  {
   "cell_type": "code",
   "execution_count": 15,
   "metadata": {
    "collapsed": true,
    "deletable": false,
    "editable": false,
    "nbgrader": {
     "grade": true,
     "grade_id": "create a QRCodeDetector object",
     "locked": true,
     "points": "5",
     "solution": false
    }
   },
   "outputs": [],
   "source": [
    "///\n",
    "/// AUTOGRADER TEST - DO NOT REMOVE\n",
    "///\n"
   ]
  },
  {
   "cell_type": "code",
   "execution_count": 16,
   "metadata": {
    "collapsed": true,
    "deletable": false,
    "editable": false,
    "nbgrader": {
     "grade": true,
     "grade_id": "detect qr code in the image",
     "locked": true,
     "points": "5",
     "solution": false
    }
   },
   "outputs": [],
   "source": [
    "///\n",
    "/// AUTOGRADER TEST - DO NOT REMOVE\n",
    "///\n"
   ]
  },
  {
   "cell_type": "markdown",
   "metadata": {
    "deletable": false,
    "editable": false,
    "nbgrader": {
     "grade": false,
     "locked": true,
     "solution": false
    }
   },
   "source": [
    "# <font style = \"color:rgb(50,120,229)\"> Step 3: Draw bounding box around the detected QR Code</font>"
   ]
  },
  {
   "cell_type": "code",
   "execution_count": 17,
   "metadata": {
    "collapsed": true
   },
   "outputs": [],
   "source": [
    "int n = bbox.rows;\n",
    "\n",
    "// Draw the bounding box\n",
    "///\n",
    "/// YOUR CODE HERE\n",
    "///\n",
    "for (int i=0; i<n; i++){\n",
    "    line(img, \n",
    "         Point2i(bbox.at<float>(i,0), bbox.at<float>(i,1)), \n",
    "         Point2i(bbox.at<float>((i+1)%n,0), bbox.at<float>((i+1)%n,1)), \n",
    "         Scalar(255,0,0),\n",
    "         3);\n",
    "}"
   ]
  },
  {
   "cell_type": "markdown",
   "metadata": {
    "deletable": false,
    "editable": false,
    "nbgrader": {
     "grade": false,
     "locked": true,
     "solution": false
    }
   },
   "source": [
    "# <font style = \"color:rgb(50,120,229)\"> Step 4: Print the Decoded Text</font>"
   ]
  },
  {
   "cell_type": "code",
   "execution_count": 18,
   "metadata": {},
   "outputs": [
    {
     "name": "stdout",
     "output_type": "stream",
     "text": [
      "QR Code Detected!\n",
      "Name: Satya, ID: 1234"
     ]
    }
   ],
   "source": [
    "// Since we have already detected and decoded the QR Code\n",
    "// using qrDecoder.detectAndDecode, we will directly\n",
    "// use the decoded text we obtained at that step (opencvData)\n",
    "\n",
    "cout << \"QR Code Detected!\" << endl;\n",
    "///\n",
    "/// YOUR CODE HERE\n",
    "///\n",
    "cout << opencvData;"
   ]
  },
  {
   "cell_type": "code",
   "execution_count": 19,
   "metadata": {
    "collapsed": true,
    "deletable": false,
    "editable": false,
    "nbgrader": {
     "grade": true,
     "grade_id": "print decoded text",
     "locked": true,
     "points": "5",
     "solution": false
    }
   },
   "outputs": [],
   "source": [
    "///\n",
    "/// AUTOGRADER TEST - DO NOT REMOVE\n",
    "///\n"
   ]
  },
  {
   "cell_type": "markdown",
   "metadata": {
    "deletable": false,
    "editable": false,
    "nbgrader": {
     "grade": false,
     "locked": true,
     "solution": false
    }
   },
   "source": [
    "# <font style = \"color:rgb(50,120,229)\"> Step 5: Save and display the result image </font>"
   ]
  },
  {
   "cell_type": "code",
   "execution_count": 20,
   "metadata": {
    "collapsed": true
   },
   "outputs": [],
   "source": [
    "// Write the result image\n",
    "string resultImagePath = \"./QRCode-Output.png\";\n",
    "\n",
    "///\n",
    "/// YOUR CODE HERE\n",
    "///\n",
    "imwrite(resultImagePath, img);"
   ]
  },
  {
   "cell_type": "code",
   "execution_count": 21,
   "metadata": {
    "collapsed": true,
    "deletable": false,
    "editable": false,
    "nbgrader": {
     "grade": true,
     "grade_id": "write the image",
     "locked": true,
     "points": "5",
     "solution": false
    }
   },
   "outputs": [],
   "source": [
    "///\n",
    "/// AUTOGRADER TEST - DO NOT REMOVE\n",
    "///\n"
   ]
  },
  {
   "cell_type": "markdown",
   "metadata": {},
   "source": [
    "We will display the image with the help of markdown.\n",
    "\n",
    "**Display the final image below using markdown**\n",
    "\n",
    "![Expected Result](./QRCode-Output.png)"
   ]
  },
  {
   "cell_type": "markdown",
   "metadata": {
    "collapsed": true
   },
   "source": [
    "# <font style = \"color:rgb(50,120,229)\"> Step 5: Display Custom QR Code </font>"
   ]
  },
  {
   "cell_type": "code",
   "execution_count": 22,
   "metadata": {
    "collapsed": true
   },
   "outputs": [],
   "source": [
    "// Read custom image\n",
    "Mat customImg = imread(\"./IDCard-KhoaNguyen.png\");"
   ]
  },
  {
   "cell_type": "code",
   "execution_count": 23,
   "metadata": {},
   "outputs": [],
   "source": [
    "// Decode the QR Code\n",
    "Mat bbox2, rectifiedImage2;\n",
    "qrDecoder = QRCodeDetector();\n",
    "string customData = qrDecoder.detectAndDecode(customImg, bbox2, rectifiedImage2);"
   ]
  },
  {
   "cell_type": "code",
   "execution_count": 24,
   "metadata": {},
   "outputs": [
    {
     "name": "stdout",
     "output_type": "stream",
     "text": [
      "QR Code Detected\n",
      "Name: Khoa Nguyen, ID: 000111222"
     ]
    }
   ],
   "source": [
    "// Check if a QR Code has been detected\n",
    "if(customData.length()>0){\n",
    "    cout << \"QR Code Detected\" << endl;\n",
    "    cout << customData;\n",
    "}\n",
    "else\n",
    "    cout << \"QR Code NOT Detected\" << endl;"
   ]
  },
  {
   "cell_type": "code",
   "execution_count": 25,
   "metadata": {},
   "outputs": [],
   "source": [
    "// Draw bounding box\n",
    "n = bbox2.rows;\n",
    "\n",
    "for (int i=0; i<n; i++){\n",
    "    line(customImg, \n",
    "         Point2i(bbox2.at<float>(i,0), bbox2.at<float>(i,1)), \n",
    "         Point2i(bbox2.at<float>((i+1)%n,0), bbox2.at<float>((i+1)%n,1)), \n",
    "         Scalar(255,0,0),\n",
    "         3);\n",
    "}"
   ]
  },
  {
   "cell_type": "code",
   "execution_count": 26,
   "metadata": {
    "collapsed": true
   },
   "outputs": [],
   "source": [
    "// Save new image\n",
    "imwrite(\"./IDCard-KhoaNguyen-Output.png\", customImg);"
   ]
  },
  {
   "cell_type": "markdown",
   "metadata": {},
   "source": [
    "**Display custom image with bounding box around QR Code**\n",
    "\n",
    "![Expected Result](./IDCard-KhoaNguyen-Output.png)"
   ]
  },
  {
   "cell_type": "code",
   "execution_count": 27,
   "metadata": {
    "collapsed": true
   },
   "outputs": [],
   "source": [
    "// Make the QR Code blurry\n",
    "Mat customImgBlurr = imread(\"./IDCard-KhoaNguyen.png\");\n",
    "blur(customImgBlurr, customImgBlurr, Size(10,10)); "
   ]
  },
  {
   "cell_type": "code",
   "execution_count": 28,
   "metadata": {
    "collapsed": true
   },
   "outputs": [],
   "source": [
    "// Decode the QR Code for the blurr image\n",
    "Mat bbox3, rectifiedImage3;\n",
    "qrDecoder = QRCodeDetector();\n",
    "string customDataBlurr = qrDecoder.detectAndDecode(customImgBlurr, bbox3, rectifiedImage3);"
   ]
  },
  {
   "cell_type": "code",
   "execution_count": 29,
   "metadata": {},
   "outputs": [
    {
     "name": "stdout",
     "output_type": "stream",
     "text": [
      "QR Code Detected\n",
      "Name: Khoa Nguyen, ID: 000111222"
     ]
    }
   ],
   "source": [
    "// Check if a QR Code has been detected\n",
    "if(customDataBlurr.length()>0){\n",
    "    cout << \"QR Code Detected\" << endl;\n",
    "    cout << customDataBlurr;\n",
    "}\n",
    "else\n",
    "    cout << \"QR Code NOT Detected\" << endl;"
   ]
  },
  {
   "cell_type": "code",
   "execution_count": 30,
   "metadata": {
    "collapsed": true
   },
   "outputs": [],
   "source": [
    "// Save new blurr image\n",
    "imwrite(\"./IDCard-KhoaNguyen-Output-Blurr.png\", customImgBlurr);"
   ]
  },
  {
   "cell_type": "markdown",
   "metadata": {},
   "source": [
    "**Dislay blurr image which QRCode is still detected by OpenCV QRCodeDetector**\n",
    "\n",
    "![BlurrImage](./IDCard-KhoaNguyen-Output-Blurr.png)"
   ]
  },
  {
   "cell_type": "code",
   "execution_count": null,
   "metadata": {
    "collapsed": true
   },
   "outputs": [],
   "source": []
  }
 ],
 "metadata": {
  "kernelspec": {
   "display_name": "C++11",
   "language": "C++11",
   "name": "xeus-cling-cpp11"
  },
  "language_info": {
   "codemirror_mode": "text/x-c++src",
   "file_extension": ".cpp",
   "mimetype": "text/x-c++src",
   "name": "c++",
   "version": "-std=c++11"
  }
 },
 "nbformat": 4,
 "nbformat_minor": 2
}
